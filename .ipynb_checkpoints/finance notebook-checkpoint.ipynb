{
 "cells": [
  {
   "cell_type": "markdown",
   "metadata": {},
   "source": [
    "# Finance Notebook\n",
    "Un proyecto de zero2hero.\n",
    "\n",
    "¡Entra a zero2hero.com.mx para más información, cursos y proyectos!\n",
    "\n",
    "Construcción de una aplicación para el manejo automatizado de un portafolio financiero."
   ]
  },
  {
   "cell_type": "markdown",
   "metadata": {},
   "source": [
    "##### Paqueterias"
   ]
  },
  {
   "cell_type": "code",
   "execution_count": 1,
   "metadata": {},
   "outputs": [],
   "source": [
    "#manejo de datos\n",
    "import numpy as np\n",
    "import pandas as pd\n",
    "#manipulación de graficas\n",
    "import seaborn as sns\n",
    "import matplotlib.pyplot as plt\n",
    "#interaccion con API de yahoo finance\n",
    "import yfinance as yf"
   ]
  },
  {
   "cell_type": "markdown",
   "metadata": {},
   "source": [
    "##### Construcción de clase 'Portafolio'"
   ]
  },
  {
   "cell_type": "code",
   "execution_count": 44,
   "metadata": {},
   "outputs": [],
   "source": [
    "class Portafolio:\n",
    "    \n",
    "    def __init__(self,inputs):\n",
    "        \n",
    "        #leer parametros\n",
    "        self.inputs = inputs\n",
    "        p_name = self.inputs['portfolio_name']\n",
    "        print(f'Portafolio - {p_name} - activo')\n",
    "        \n",
    "        #descargan automaticamente los ticks\n",
    "        self.ticks = {}\n",
    "        self.download_ticks()\n",
    "    \n",
    "    #descripción de la clase\n",
    "    def __repr__(self):\n",
    "        return 'Portafolio Inteligente para la Manipulación de Activos Financieros'\n",
    "    \n",
    "    #mostrar información de los ticks del portafolio\n",
    "    def show_ticks(self):\n",
    "        for i in range(len(self.inputs['ticks'])):\n",
    "            tick_name = self.inputs['ticks'][i]\n",
    "            print(f'{i+1} - {tick_name}')\n",
    "    \n",
    "    #descarga lista de ticks establecida en inputs\n",
    "    def download_ticks(self):\n",
    "        for tick in self.inputs['ticks']:\n",
    "            t = yf.Ticker(tick)\n",
    "            self.ticks[tick] = t\n",
    "    \n",
    "    #grafica timeseries de tick especifico\n",
    "    def tick_value(self,tick):\n",
    "        data = self.ticks[tick].history(period='YTD')\n",
    "        plt.figure(figsize = (8,6))\n",
    "        plt.title(f'{tick} - YTD historical close values')\n",
    "        plt.plot(data.index,data['Close'])\n",
    "        plt.show()\n",
    "    \n",
    "    #grafica timeseries de todos los ticks del portafolio\n",
    "    def ticks_values(self):\n",
    "        plt.figure(figsize = (12,8))\n",
    "        plt.title('Portfolio Ticks - YTD historical timeseries')\n",
    "        for tick in self.ticks:\n",
    "            data = self.ticks[tick].history(period='YTD')\n",
    "            plt.plot(data.index,data['Close'],label=tick)\n",
    "        plt.legend()\n",
    "        plt.show()\n",
    "    \n",
    "    #grafica timeseries rendimiento tick especifico\n",
    "    def tick_return(self,tick):\n",
    "        data = self.ticks[tick].history(period='YTD')\n",
    "        data['returns'] = data['Close'].pct_change()\n",
    "        \n",
    "        #timeseries returns\n",
    "        plt.figure(figsize = (8,6))\n",
    "        plt.title(f'{tick} - YTD historical returns')\n",
    "        plt.plot(data.index,data['returns'])\n",
    "        plt.show()\n",
    "        \n",
    "        #histogram returns\n",
    "        plt.figure()\n",
    "        sns.histplot(data=data['returns'])\n",
    "        plt.show()\n",
    "        \n",
    "    \n",
    "    #grafica returns de todos los ticks del portafolio\n",
    "    def ticks_returns(self):\n",
    "        plt.figure(figsize = (12,8))\n",
    "        plt.title('Portfolio Ticks - YTD historical returns')\n",
    "        for tick in self.ticks:\n",
    "            data = self.ticks[tick].history(period='YTD')\n",
    "            data['returns'] = data['Close'].pct_change()\n",
    "            plt.plot(data.index,data['returns'],label=tick)\n",
    "        plt.legend()\n",
    "        plt.show()\n",
    "      \n",
    "    #obtener informacion de la correlación entre dos ticks\n",
    "    def compare_ticks(self,tick1,tick2):\n",
    "        \n",
    "        #datos de los ticks\n",
    "        data_t1 = self.ticks[tick1].history(period='YTD')\n",
    "        data_t1['returns'] = data_t1['Close'].pct_change()\n",
    "        data_t2 = self.ticks[tick2].history(period='YTD')\n",
    "        data_t2['returns'] = data_t2['Close'].pct_change()\n",
    "        \n",
    "        #grafica\n",
    "        plt.figure(figsize = (10,8))\n",
    "        plt.title(f'Correlation of returns between {tick1} and {tick2}')\n",
    "        plt.xlabel(tick1)\n",
    "        plt.ylabel(tick2)\n",
    "        \n",
    "        plt.plot(data_t1['returns'],data_t2['returns'],'o')\n",
    "        \n",
    "        plt.show()\n",
    "        \n",
    "        #correlation index\n",
    "        corr_index = data_t1['returns'].corr(data_t2['returns'])\n",
    "        \n",
    "        print(f'The correlation index between {tick1} and {tick2} is: {corr_index}')\n",
    "        \n",
    "    #devuelve info de ticker\n",
    "    def tick_info(self,tick):\n",
    "        target_tick = self.ticks[tick]\n",
    "        return target_tick.info"
   ]
  },
  {
   "cell_type": "markdown",
   "metadata": {},
   "source": [
    "##### Conexión con API\n",
    "\n",
    "Download market data from Yahoo! Finance's API"
   ]
  },
  {
   "cell_type": "code",
   "execution_count": 35,
   "metadata": {},
   "outputs": [],
   "source": [
    "spy = yf.Ticker('SPY')"
   ]
  },
  {
   "cell_type": "code",
   "execution_count": 38,
   "metadata": {},
   "outputs": [],
   "source": [
    "#spy.history(period='MAX')\n",
    "#spy.info"
   ]
  },
  {
   "cell_type": "markdown",
   "metadata": {},
   "source": [
    "##### Aplicación"
   ]
  },
  {
   "cell_type": "code",
   "execution_count": 39,
   "metadata": {},
   "outputs": [],
   "source": [
    "parametros = {\n",
    "    'portfolio_name': 'BlankHall Portfolio',\n",
    "    'ticks': ['SPY','META','AMZN','LIT','URA','TSLA']\n",
    "}"
   ]
  },
  {
   "cell_type": "code",
   "execution_count": 45,
   "metadata": {},
   "outputs": [
    {
     "name": "stdout",
     "output_type": "stream",
     "text": [
      "Portafolio - BlankHall Portfolio - activo\n"
     ]
    }
   ],
   "source": [
    "port = Portafolio(parametros)"
   ]
  },
  {
   "cell_type": "code",
   "execution_count": 6,
   "metadata": {},
   "outputs": [
    {
     "name": "stdout",
     "output_type": "stream",
     "text": [
      "Portafolio Inteligente para la Manipulación de Activos Financieros\n"
     ]
    }
   ],
   "source": [
    "print(port)"
   ]
  },
  {
   "cell_type": "code",
   "execution_count": 7,
   "metadata": {},
   "outputs": [
    {
     "name": "stdout",
     "output_type": "stream",
     "text": [
      "1 - SPY\n",
      "2 - META\n",
      "3 - AMZN\n",
      "4 - LIT\n",
      "5 - URA\n",
      "6 - TSLA\n"
     ]
    }
   ],
   "source": [
    "port.show_ticks()"
   ]
  },
  {
   "cell_type": "markdown",
   "metadata": {},
   "source": [
    "Posibles acciones"
   ]
  },
  {
   "cell_type": "code",
   "execution_count": 47,
   "metadata": {},
   "outputs": [
    {
     "data": {
      "text/plain": [
       "{'exchange': 'PCX',\n",
       " 'shortName': 'Global X Lithium & Battery Tech',\n",
       " 'longName': 'Global X Lithium & Battery Tech ETF',\n",
       " 'exchangeTimezoneName': 'America/New_York',\n",
       " 'exchangeTimezoneShortName': 'EDT',\n",
       " 'isEsgPopulated': False,\n",
       " 'gmtOffSetMilliseconds': '-14400000',\n",
       " 'quoteType': 'ETF',\n",
       " 'symbol': 'LIT',\n",
       " 'messageBoardId': 'finmb_109863931',\n",
       " 'market': 'us_market',\n",
       " 'annualHoldingsTurnover': None,\n",
       " 'enterpriseToRevenue': None,\n",
       " 'beta3Year': 1.31,\n",
       " 'profitMargins': None,\n",
       " 'enterpriseToEbitda': None,\n",
       " '52WeekChange': None,\n",
       " 'morningStarRiskRating': None,\n",
       " 'forwardEps': None,\n",
       " 'revenueQuarterlyGrowth': None,\n",
       " 'fundInceptionDate': 1279756800,\n",
       " 'annualReportExpenseRatio': None,\n",
       " 'totalAssets': 4517058048,\n",
       " 'bookValue': None,\n",
       " 'fundFamily': 'Global X Funds',\n",
       " 'lastFiscalYearEnd': None,\n",
       " 'netIncomeToCommon': None,\n",
       " 'trailingEps': None,\n",
       " 'lastDividendValue': None,\n",
       " 'SandP52WeekChange': None,\n",
       " 'priceToBook': None,\n",
       " 'nextFiscalYearEnd': None,\n",
       " 'yield': 0.0028,\n",
       " 'mostRecentQuarter': None,\n",
       " 'enterpriseValue': None,\n",
       " 'priceHint': 2,\n",
       " 'threeYearAverageReturn': 0.5132,\n",
       " 'lastSplitDate': None,\n",
       " 'lastSplitFactor': None,\n",
       " 'legalType': 'Exchange Traded Fund',\n",
       " 'lastDividendDate': None,\n",
       " 'morningStarOverallRating': None,\n",
       " 'earningsQuarterlyGrowth': None,\n",
       " 'priceToSalesTrailing12Months': None,\n",
       " 'pegRatio': None,\n",
       " 'ytdReturn': None,\n",
       " 'forwardPE': None,\n",
       " 'maxAge': 1,\n",
       " 'lastCapGain': None,\n",
       " 'category': 'Natural Resources',\n",
       " 'fiveYearAverageReturn': 0.2091,\n",
       " 'phone': 'NA',\n",
       " 'longBusinessSummary': 'The fund invests at least 80% of its total assets in the securities of the underlying index and in American Depositary Receipts (\"ADRs\") and Global Depositary Receipts (\"GDRs\") based on the securities in the underlying index. The underlying index is designed to measure broad-based equity market performance of global companies involved in the lithium industry. The fund is non-diversified.',\n",
       " 'companyOfficers': [],\n",
       " 'previousClose': 76.86,\n",
       " 'regularMarketOpen': 76,\n",
       " 'twoHundredDayAverage': 76.8274,\n",
       " 'trailingAnnualDividendYield': None,\n",
       " 'payoutRatio': None,\n",
       " 'volume24Hr': None,\n",
       " 'regularMarketDayHigh': 76.89,\n",
       " 'navPrice': 77.51,\n",
       " 'averageDailyVolume10Day': 580640,\n",
       " 'regularMarketPreviousClose': 76.86,\n",
       " 'fiftyDayAverage': 74.9696,\n",
       " 'trailingAnnualDividendRate': None,\n",
       " 'open': 76,\n",
       " 'toCurrency': None,\n",
       " 'averageVolume10days': 580640,\n",
       " 'expireDate': None,\n",
       " 'algorithm': None,\n",
       " 'dividendRate': None,\n",
       " 'exDividendDate': None,\n",
       " 'beta': None,\n",
       " 'circulatingSupply': None,\n",
       " 'startDate': None,\n",
       " 'regularMarketDayLow': 75.76,\n",
       " 'currency': 'USD',\n",
       " 'regularMarketVolume': 717372,\n",
       " 'lastMarket': None,\n",
       " 'maxSupply': None,\n",
       " 'openInterest': None,\n",
       " 'marketCap': None,\n",
       " 'volumeAllCurrencies': None,\n",
       " 'strikePrice': None,\n",
       " 'averageVolume': 599736,\n",
       " 'dayLow': 75.76,\n",
       " 'ask': 77.77,\n",
       " 'askSize': 800,\n",
       " 'volume': 717372,\n",
       " 'fiftyTwoWeekHigh': 97.13,\n",
       " 'fromCurrency': None,\n",
       " 'fiveYearAvgDividendYield': None,\n",
       " 'fiftyTwoWeekLow': 61.67,\n",
       " 'bid': 76,\n",
       " 'tradeable': False,\n",
       " 'dividendYield': None,\n",
       " 'bidSize': 900,\n",
       " 'dayHigh': 76.89,\n",
       " 'coinMarketCapLink': None,\n",
       " 'preferredPosition': None,\n",
       " 'bondPosition': 0,\n",
       " 'convertiblePosition': None,\n",
       " 'sectorWeightings': [{'realestate': 0},\n",
       "  {'consumer_cyclical': 0.16319999},\n",
       "  {'basic_materials': 0.45319998},\n",
       "  {'consumer_defensive': 0},\n",
       "  {'technology': 0.1667},\n",
       "  {'communication_services': 0},\n",
       "  {'financial_services': 0},\n",
       "  {'utilities': 0},\n",
       "  {'industrials': 0.21149999},\n",
       "  {'energy': 0},\n",
       "  {'healthcare': 0}],\n",
       " 'holdings': [{'symbol': 'ALB',\n",
       "   'holdingName': 'Albemarle Corp',\n",
       "   'holdingPercent': 0.12},\n",
       "  {'symbol': '002812',\n",
       "   'holdingName': 'Yunnan Energy New Material Co Ltd A',\n",
       "   'holdingPercent': 0.066700004},\n",
       "  {'symbol': '300750',\n",
       "   'holdingName': 'Contemporary Amperex Technology Co Ltd Class A',\n",
       "   'holdingPercent': 0.0641},\n",
       "  {'symbol': '300014',\n",
       "   'holdingName': 'EVE Energy Co Ltd',\n",
       "   'holdingPercent': 0.0581},\n",
       "  {'symbol': '01211',\n",
       "   'holdingName': 'BYD Co Ltd Class H',\n",
       "   'holdingPercent': 0.0523},\n",
       "  {'symbol': '002371',\n",
       "   'holdingName': 'NAURA Technology Group Co Ltd',\n",
       "   'holdingPercent': 0.0511},\n",
       "  {'symbol': '002460',\n",
       "   'holdingName': 'Ganfeng Lithium Co Ltd',\n",
       "   'holdingPercent': 0.051},\n",
       "  {'symbol': '300450',\n",
       "   'holdingName': 'Wuxi Lead Intelligent Equipment Co Ltd A',\n",
       "   'holdingPercent': 0.0446},\n",
       "  {'symbol': 'MIN.AX',\n",
       "   'holdingName': 'Mineral Resources Ltd',\n",
       "   'holdingPercent': 0.0402},\n",
       "  {'symbol': '006400.KS',\n",
       "   'holdingName': 'Samsung SDI Co Ltd',\n",
       "   'holdingPercent': 0.0394}],\n",
       " 'bondHoldings': {'maturity': None,\n",
       "  'duration': None,\n",
       "  'creditQuality': None,\n",
       "  'maturityCat': None,\n",
       "  'durationCat': None,\n",
       "  'creditQualityCat': None},\n",
       " 'bondRatings': [{'bb': 0},\n",
       "  {'aa': 0},\n",
       "  {'aaa': 0},\n",
       "  {'a': 0},\n",
       "  {'other': 0},\n",
       "  {'b': 0},\n",
       "  {'bbb': 0},\n",
       "  {'below_b': 0},\n",
       "  {'us_government': 0}],\n",
       " 'equityHoldings': {'priceToCashflow': 20.73,\n",
       "  'priceToSales': 2.77,\n",
       "  'priceToBookCat': None,\n",
       "  'priceToEarningsCat': None,\n",
       "  'medianMarketCapCat': None,\n",
       "  'threeYearEarningsGrowthCat': None,\n",
       "  'threeYearEarningsGrowth': None,\n",
       "  'medianMarketCap': None,\n",
       "  'priceToEarnings': 28.06,\n",
       "  'priceToBook': 4.95,\n",
       "  'priceToSalesCat': None,\n",
       "  'priceToCashflowCat': None},\n",
       " 'otherPosition': None,\n",
       " 'cashPosition': None,\n",
       " 'stockPosition': 0.9979,\n",
       " 'regularMarketPrice': 76.27,\n",
       " 'preMarketPrice': 75.61,\n",
       " 'logo_url': ''}"
      ]
     },
     "execution_count": 47,
     "metadata": {},
     "output_type": "execute_result"
    }
   ],
   "source": [
    "#port.ticks['SPY'].history(period='YTD')\n",
    "#port.tick_value('TSLA')\n",
    "#port.ticks_values()\n",
    "#port.tick_return('TSLA')\n",
    "#port.ticks_returns()\n",
    "#port.compare_ticks('TSLA','AMZN')\n",
    "port.tick_info('LIT')"
   ]
  }
 ],
 "metadata": {
  "kernelspec": {
   "display_name": "Python 3",
   "language": "python",
   "name": "python3"
  },
  "language_info": {
   "codemirror_mode": {
    "name": "ipython",
    "version": 3
   },
   "file_extension": ".py",
   "mimetype": "text/x-python",
   "name": "python",
   "nbconvert_exporter": "python",
   "pygments_lexer": "ipython3",
   "version": "3.8.5"
  }
 },
 "nbformat": 4,
 "nbformat_minor": 4
}
