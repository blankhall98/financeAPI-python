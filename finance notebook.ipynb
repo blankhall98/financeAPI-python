{
 "cells": [
  {
   "cell_type": "markdown",
   "metadata": {},
   "source": [
    "# Finance Notebook\n",
    "Un proyecto de zero2hero.\n",
    "\n",
    "¡Entra a zero2hero.com.mx para más información, cursos y proyectos!\n",
    "\n",
    "Construcción de una aplicación para el manejo automatizado de un portafolio financiero."
   ]
  },
  {
   "cell_type": "markdown",
   "metadata": {},
   "source": [
    "##### Paqueterias"
   ]
  },
  {
   "cell_type": "code",
   "execution_count": 1,
   "metadata": {},
   "outputs": [],
   "source": [
    "#manejo de datos\n",
    "import numpy as np\n",
    "import pandas as pd\n",
    "#manipulación de graficas\n",
    "import seaborn as sns\n",
    "import matplotlib.pyplot as plt\n",
    "#interaccion con API de yahoo finance\n",
    "import yfinance as yf"
   ]
  },
  {
   "cell_type": "markdown",
   "metadata": {},
   "source": [
    "##### Construcción de clase 'Portafolio'"
   ]
  },
  {
   "cell_type": "code",
   "execution_count": 44,
   "metadata": {},
   "outputs": [],
   "source": [
    "class Portafolio:\n",
    "    \n",
    "    def __init__(self,inputs):\n",
    "        \n",
    "        #leer parametros\n",
    "        self.inputs = inputs\n",
    "        p_name = self.inputs['portfolio_name']\n",
    "        print(f'Portafolio - {p_name} - activo')\n",
    "        \n",
    "        #descargan automaticamente los ticks\n",
    "        self.ticks = {}\n",
    "        self.download_ticks()\n",
    "    \n",
    "    #descripción de la clase\n",
    "    def __repr__(self):\n",
    "        return 'Portafolio Inteligente para la Manipulación de Activos Financieros'\n",
    "    \n",
    "    #mostrar información de los ticks del portafolio\n",
    "    def show_ticks(self):\n",
    "        for i in range(len(self.inputs['ticks'])):\n",
    "            tick_name = self.inputs['ticks'][i]\n",
    "            print(f'{i+1} - {tick_name}')\n",
    "    \n",
    "    #descarga lista de ticks establecida en inputs\n",
    "    def download_ticks(self):\n",
    "        for tick in self.inputs['ticks']:\n",
    "            t = yf.Ticker(tick)\n",
    "            self.ticks[tick] = t\n",
    "    \n",
    "    #grafica timeseries de tick especifico\n",
    "    def tick_value(self,tick):\n",
    "        data = self.ticks[tick].history(period='YTD')\n",
    "        plt.figure(figsize = (8,6))\n",
    "        plt.title(f'{tick} - YTD historical close values')\n",
    "        plt.plot(data.index,data['Close'])\n",
    "        plt.show()\n",
    "    \n",
    "    #grafica timeseries de todos los ticks del portafolio\n",
    "    def ticks_values(self):\n",
    "        plt.figure(figsize = (12,8))\n",
    "        plt.title('Portfolio Ticks - YTD historical timeseries')\n",
    "        for tick in self.ticks:\n",
    "            data = self.ticks[tick].history(period='YTD')\n",
    "            plt.plot(data.index,data['Close'],label=tick)\n",
    "        plt.legend()\n",
    "        plt.show()\n",
    "    \n",
    "    #grafica timeseries rendimiento tick especifico\n",
    "    def tick_return(self,tick):\n",
    "        data = self.ticks[tick].history(period='YTD')\n",
    "        data['returns'] = data['Close'].pct_change()\n",
    "        \n",
    "        #timeseries returns\n",
    "        plt.figure(figsize = (8,6))\n",
    "        plt.title(f'{tick} - YTD historical returns')\n",
    "        plt.plot(data.index,data['returns'])\n",
    "        plt.show()\n",
    "        \n",
    "        #histogram returns\n",
    "        plt.figure()\n",
    "        sns.histplot(data=data['returns'])\n",
    "        plt.show()\n",
    "        \n",
    "    \n",
    "    #grafica returns de todos los ticks del portafolio\n",
    "    def ticks_returns(self):\n",
    "        plt.figure(figsize = (12,8))\n",
    "        plt.title('Portfolio Ticks - YTD historical returns')\n",
    "        for tick in self.ticks:\n",
    "            data = self.ticks[tick].history(period='YTD')\n",
    "            data['returns'] = data['Close'].pct_change()\n",
    "            plt.plot(data.index,data['returns'],label=tick)\n",
    "        plt.legend()\n",
    "        plt.show()\n",
    "      \n",
    "    #obtener informacion de la correlación entre dos ticks\n",
    "    def compare_ticks(self,tick1,tick2):\n",
    "        \n",
    "        #datos de los ticks\n",
    "        data_t1 = self.ticks[tick1].history(period='YTD')\n",
    "        data_t1['returns'] = data_t1['Close'].pct_change()\n",
    "        data_t2 = self.ticks[tick2].history(period='YTD')\n",
    "        data_t2['returns'] = data_t2['Close'].pct_change()\n",
    "        \n",
    "        #grafica\n",
    "        plt.figure(figsize = (10,8))\n",
    "        plt.title(f'Correlation of returns between {tick1} and {tick2}')\n",
    "        plt.xlabel(tick1)\n",
    "        plt.ylabel(tick2)\n",
    "        \n",
    "        plt.plot(data_t1['returns'],data_t2['returns'],'o')\n",
    "        \n",
    "        plt.show()\n",
    "        \n",
    "        #correlation index\n",
    "        corr_index = data_t1['returns'].corr(data_t2['returns'])\n",
    "        \n",
    "        print(f'The correlation index between {tick1} and {tick2} is: {corr_index}')\n",
    "        \n",
    "    #devuelve info de ticker\n",
    "    def tick_info(self,tick):\n",
    "        target_tick = self.ticks[tick]\n",
    "        return target_tick.info"
   ]
  },
  {
   "cell_type": "markdown",
   "metadata": {},
   "source": [
    "##### Conexión con API\n",
    "\n",
    "Download market data from Yahoo! Finance's API"
   ]
  },
  {
   "cell_type": "code",
   "execution_count": 35,
   "metadata": {},
   "outputs": [],
   "source": [
    "spy = yf.Ticker('SPY')"
   ]
  },
  {
   "cell_type": "code",
   "execution_count": 38,
   "metadata": {},
   "outputs": [],
   "source": [
    "#spy.history(period='MAX')\n",
    "#spy.info"
   ]
  },
  {
   "cell_type": "markdown",
   "metadata": {},
   "source": [
    "##### Aplicación"
   ]
  },
  {
   "cell_type": "code",
   "execution_count": 39,
   "metadata": {},
   "outputs": [],
   "source": [
    "parametros = {\n",
    "    'portfolio_name': 'BlankHall Portfolio',\n",
    "    'ticks': ['SPY','META','AMZN','LIT','URA','TSLA']\n",
    "}"
   ]
  },
  {
   "cell_type": "code",
   "execution_count": 45,
   "metadata": {},
   "outputs": [
    {
     "name": "stdout",
     "output_type": "stream",
     "text": [
      "Portafolio - BlankHall Portfolio - activo\n"
     ]
    }
   ],
   "source": [
    "port = Portafolio(parametros)"
   ]
  },
  {
   "cell_type": "code",
   "execution_count": 6,
   "metadata": {},
   "outputs": [
    {
     "name": "stdout",
     "output_type": "stream",
     "text": [
      "Portafolio Inteligente para la Manipulación de Activos Financieros\n"
     ]
    }
   ],
   "source": [
    "print(port)"
   ]
  },
  {
   "cell_type": "code",
   "execution_count": 7,
   "metadata": {},
   "outputs": [
    {
     "name": "stdout",
     "output_type": "stream",
     "text": [
      "1 - SPY\n",
      "2 - META\n",
      "3 - AMZN\n",
      "4 - LIT\n",
      "5 - URA\n",
      "6 - TSLA\n"
     ]
    }
   ],
   "source": [
    "port.show_ticks()"
   ]
  },
  {
   "cell_type": "markdown",
   "metadata": {},
   "source": [
    "Posibles acciones"
   ]
  },
  {
   "cell_type": "code",
   "execution_count": 48,
   "metadata": {},
   "outputs": [],
   "source": [
    "#port.ticks['SPY'].history(period='YTD')\n",
    "#port.tick_value('TSLA')\n",
    "#port.ticks_values()\n",
    "#port.tick_return('TSLA')\n",
    "#port.ticks_returns()\n",
    "#port.compare_ticks('TSLA','AMZN')\n",
    "#port.tick_info('LIT')"
   ]
  }
 ],
 "metadata": {
  "kernelspec": {
   "display_name": "Python 3",
   "language": "python",
   "name": "python3"
  },
  "language_info": {
   "codemirror_mode": {
    "name": "ipython",
    "version": 3
   },
   "file_extension": ".py",
   "mimetype": "text/x-python",
   "name": "python",
   "nbconvert_exporter": "python",
   "pygments_lexer": "ipython3",
   "version": "3.8.5"
  }
 },
 "nbformat": 4,
 "nbformat_minor": 4
}
